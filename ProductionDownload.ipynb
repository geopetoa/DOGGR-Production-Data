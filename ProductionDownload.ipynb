{
 "cells": [
  {
   "cell_type": "code",
   "execution_count": null,
   "metadata": {
    "scrolled": true
   },
   "outputs": [],
   "source": [
    "import os\n",
    "import time\n",
    "import csv\n",
    "from selenium import webdriver\n",
    "\n"
   ]
  },
  {
   "cell_type": "code",
   "execution_count": null,
   "metadata": {
    "scrolled": true
   },
   "outputs": [],
   "source": [
    "driver = webdriver.Chrome()\n",
    "\n",
    "print('driver is ok !\\n\\n')\n",
    "\n",
    "with open(\"results.csv\", 'r') as file:\n",
    "    \n",
    "    welllist = csv.reader(file)    \n",
    "    next(welllist)\n",
    "    for line in welllist:\n",
    "        api = line[0] \n",
    "        driver.get('https://secure.conservation.ca.gov/WellSearch/Details?api='+str(api[2:]))\n",
    "        button = driver.find_element_by_id('ButtonExportProdToExcel')\n",
    "        driver.execute_script(\"arguments[0].click();\", button)\n",
    "      \n",
    "    \n",
    "        time.sleep(1) \n",
    "   \n",
    "    "
   ]
  },
  {
   "cell_type": "code",
   "execution_count": null,
   "metadata": {},
   "outputs": [],
   "source": []
  }
 ],
 "metadata": {
  "kernelspec": {
   "display_name": "Python 3",
   "language": "python",
   "name": "python3"
  },
  "language_info": {
   "codemirror_mode": {
    "name": "ipython",
    "version": 3
   },
   "file_extension": ".py",
   "mimetype": "text/x-python",
   "name": "python",
   "nbconvert_exporter": "python",
   "pygments_lexer": "ipython3",
   "version": "3.7.1"
  }
 },
 "nbformat": 4,
 "nbformat_minor": 2
}
